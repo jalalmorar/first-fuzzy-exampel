{
 "cells": [
  {
   "cell_type": "code",
   "execution_count": 2,
   "metadata": {},
   "outputs": [
    {
     "name": "stdout",
     "output_type": "stream",
     "text": [
      "The Fuzzy set is [ 0.5   0.55  0.6   0.65  0.7   0.75  0.8   0.85  0.9   0.95  1.    1.05]\n"
     ]
    },
    {
     "data": {
      "image/png": "[encoded data removed]",
      "text/plain": [
       "<matplotlib.figure.Figure at 0x6597e10>"
      ]
     },
     "metadata": {},
     "output_type": "display_data"
    }
   ],
   "source": [
    "import numpy as np\n",
    "import matplotlib.pyplot as plt\n",
    "\n",
    "  \n",
    "def Fuzzy_Set(x):\n",
    "    return  x/100.0 -1 #to find Percentage of tall\n",
    "\n",
    "if __name__=='__main__':\n",
    "    x=np.arange(150,210,5) #increase 5\n",
    "    \n",
    "    print \"The Fuzzy set is\", Fuzzy_Set(x) #print fuzzy set Percentage of tall\n",
    "    plt.plot( x, Fuzzy_Set(x)) # x the tall /fuzzy set rebresent y\n",
    "    plt.axis([150, 210, -0.1, 1.1]) #x start from 150 to 210 and y from 0.0 to 1\n",
    "    plt.grid(True)\n",
    "    plt.show()\n"
   ]
  },
  {
   "cell_type": "code",
   "execution_count": null,
   "metadata": {
    "collapsed": true
   },
   "outputs": [],
   "source": []
  },
  {
   "cell_type": "code",
   "execution_count": null,
   "metadata": {
    "collapsed": true
   },
   "outputs": [],
   "source": []
  }
 ],
 "metadata": {
  "kernelspec": {
   "display_name": "Python 2",
   "language": "python",
   "name": "python2"
  },
  "language_info": {
   "codemirror_mode": {
    "name": "ipython",
    "version": 2
   },
   "file_extension": ".py",
   "mimetype": "text/x-python",
   "name": "python",
   "nbconvert_exporter": "python",
   "pygments_lexer": "ipython2",
   "version": "2.7.14"
  }
 },
 "nbformat": 4,
 "nbformat_minor": 2
}
