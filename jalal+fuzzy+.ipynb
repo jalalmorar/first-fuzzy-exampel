{
 "cells": [
  {
   "cell_type": "code",
   "execution_count": 11,
   "metadata": {},
   "outputs": [
    {
     "ename": "IndentationError",
     "evalue": "expected an indented block (<ipython-input-11-82500b3fbb69>, line 5)",
     "output_type": "error",
     "traceback": [
      "\u001b[1;36m  File \u001b[1;32m\"<ipython-input-11-82500b3fbb69>\"\u001b[1;36m, line \u001b[1;32m5\u001b[0m\n\u001b[1;33m    if (x<=a) | (x>=b):\u001b[0m\n\u001b[1;37m     ^\u001b[0m\n\u001b[1;31mIndentationError\u001b[0m\u001b[1;31m:\u001b[0m expected an indented block\n"
     ]
    }
   ],
   "source": [
    "import numpy as np\n",
    "import matplotlib.pyplot as plt\n",
    "\n",
    "def avrage (x,a,m,b):     #function to fhind dra triangle of avrage main \n",
    "if (x<=a) | (x>=b):\n",
    "        y = 0\n",
    "    elif (a<=x) & (x<=m):\n",
    "        y = (x-a) / (m-a)\n",
    "    elif (m<x) & (x<b):\n",
    "        y = (b-x) / (b-m)\n",
    "    return y\n",
    "\n",
    "\n",
    "def short (x,c,d):        #function to fhind dra of short main\n",
    "    if (x>d):\n",
    "        y = 0\n",
    "    elif (c<=x) & (x<=d):\n",
    "        y = (d-x) / (d-c)\n",
    "    elif (x<d):\n",
    "        y = 1\n",
    "        return y\n",
    "    \n",
    "    \n",
    "    def tall (x,a,b):        #function to fhind dra of tall main \n",
    "    if (x<b):\n",
    "        y = 0\n",
    "    elif (a<=x) & (x<=b):\n",
    "        y = (b-x) / (d-c)\n",
    "    elif (x>b):\n",
    "        y = 1\n",
    "        return y\n",
    "    \n",
    "    if __name__=='__main__':\n",
    "    x=np.arange(150,210,5) #increase 5\n",
    "    plt.plot( x, short(x,160,150),avrage(x,165,170,180),tall(x,175,200)) # x the tall /fuzzy set rebresent y\n",
    "    plt.axis([145, 210, -0.1, 1.1]) #x start from 150 to 210 and y from 0.0 to 1\n",
    "plt.grid(True)\n",
    "    plt.show()\n",
    "    \n"
   ]
  },
  {
   "cell_type": "code",
   "execution_count": null,
   "metadata": {
    "collapsed": true
   },
   "outputs": [],
   "source": []
  },
  {
   "cell_type": "code",
   "execution_count": null,
   "metadata": {
    "collapsed": true
   },
   "outputs": [],
   "source": []
  },
  {
   "cell_type": "code",
   "execution_count": null,
   "metadata": {
    "collapsed": true
   },
   "outputs": [],
   "source": []
  }
 ],
 "metadata": {
  "kernelspec": {
   "display_name": "Python 2",
   "language": "python",
   "name": "python2"
  },
  "language_info": {
   "codemirror_mode": {
    "name": "ipython",
    "version": 2
   },
   "file_extension": ".py",
   "mimetype": "text/x-python",
   "name": "python",
   "nbconvert_exporter": "python",
   "pygments_lexer": "ipython2",
   "version": "2.7.14"
  }
 },
 "nbformat": 4,
 "nbformat_minor": 2
}
